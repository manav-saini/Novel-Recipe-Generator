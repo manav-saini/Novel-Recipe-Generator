{
  "nbformat": 4,
  "nbformat_minor": 0,
  "metadata": {
    "colab": {
      "provenance": []
    },
    "kernelspec": {
      "name": "python3",
      "display_name": "Python 3"
    },
    "language_info": {
      "name": "python"
    }
  },
  "cells": [
    {
      "cell_type": "code",
      "execution_count": 1,
      "metadata": {
        "colab": {
          "base_uri": "https://localhost:8080/"
        },
        "id": "zMKm4cE1KgA8",
        "outputId": "d3d1cd9d-b537-4e09-9fed-3fee3414e620"
      },
      "outputs": [
        {
          "output_type": "stream",
          "name": "stdout",
          "text": [
            "Colab only includes TensorFlow 2.x; %tensorflow_version has no effect.\n"
          ]
        }
      ],
      "source": [
        "%tensorflow_version 2.x\n",
        "!pip install -q gpt-2-simple\n",
        "from google.colab import files\n",
        "from datetime import datetime\n",
        "import gpt_2_simple as gpt2"
      ]
    },
    {
      "cell_type": "markdown",
      "source": [
        "**Mounting google drive**"
      ],
      "metadata": {
        "id": "LchpeLx8Kv99"
      }
    },
    {
      "cell_type": "code",
      "source": [
        "gpt2.mount_gdrive()"
      ],
      "metadata": {
        "colab": {
          "base_uri": "https://localhost:8080/"
        },
        "id": "jMxNuUTOKk3i",
        "outputId": "4c16c7d9-56dc-4471-9ec8-1f4ed9f65c1d"
      },
      "execution_count": 2,
      "outputs": [
        {
          "output_type": "stream",
          "name": "stdout",
          "text": [
            "Drive already mounted at /content/drive; to attempt to forcibly remount, call drive.mount(\"/content/drive\", force_remount=True).\n"
          ]
        }
      ]
    },
    {
      "cell_type": "markdown",
      "source": [
        "**Loading the finetuned model**"
      ],
      "metadata": {
        "id": "ptl7P1oUK0GS"
      }
    },
    {
      "cell_type": "code",
      "source": [
        "gpt2.copy_checkpoint_from_gdrive(run_name='run1')"
      ],
      "metadata": {
        "id": "VzCgh9ZhK3gB"
      },
      "execution_count": 3,
      "outputs": []
    },
    {
      "cell_type": "code",
      "source": [
        "sess = gpt2.start_tf_sess()\n",
        "gpt2.load_gpt2(sess, run_name='run1')"
      ],
      "metadata": {
        "colab": {
          "base_uri": "https://localhost:8080/"
        },
        "id": "a1HfVxvsK5zZ",
        "outputId": "d65abd86-a1eb-46ef-c465-0fb2dec9d8e8"
      },
      "execution_count": 4,
      "outputs": [
        {
          "output_type": "stream",
          "name": "stdout",
          "text": [
            "Loading checkpoint checkpoint/run1/model-20000\n"
          ]
        }
      ]
    },
    {
      "cell_type": "markdown",
      "source": [
        "**Generating Samples**"
      ],
      "metadata": {
        "id": "hbwRvwGNK93D"
      }
    },
    {
      "cell_type": "code",
      "source": [
        "gpt2.generate(sess, run_name='run1',temperature=0.7,\n",
        "              nsamples=10,\n",
        "              batch_size=10)"
      ],
      "metadata": {
        "id": "rCSJJaZzLBcx"
      },
      "execution_count": null,
      "outputs": []
    },
    {
      "cell_type": "markdown",
      "source": [
        "**Generating Samples with ingredients**"
      ],
      "metadata": {
        "id": "JArSjzVOLDk9"
      }
    },
    {
      "cell_type": "code",
      "source": [
        "gpt2.generate(sess,\n",
        "              temperature=0.7,\n",
        "              prefix=\"['paprika', 'garlic', 'onion', 'thyme']\",\n",
        "              nsamples=1,\n",
        "              batch_size=1,\n",
        "              run_name='run1',\n",
        "              truncate=' <|endoftext|> ',\n",
        "              top_p=0.9,\n",
        "              include_prefix=True\n",
        "              )"
      ],
      "metadata": {
        "id": "ZR5o0tT9LJEe"
      },
      "execution_count": null,
      "outputs": []
    }
  ]
}